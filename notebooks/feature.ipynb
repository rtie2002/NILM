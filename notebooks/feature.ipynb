{
 "cells": [
  {
   "cell_type": "markdown",
   "id": "c3686e30",
   "metadata": {},
   "source": [
    "V–I trajectories"
   ]
  },
  {
   "cell_type": "code",
   "execution_count": 2,
   "id": "ee7a091a",
   "metadata": {},
   "outputs": [
    {
     "name": "stdout",
     "output_type": "stream",
     "text": [
      "<nilmtk.dataset.DataSet object at 0x00000202BDD671D0>\n"
     ]
    }
   ],
   "source": [
    "from nilmtk import DataSet\n",
    "\n",
    "# Load dataset\n",
    "data = DataSet(r'C:\\Users\\Raymond Tie\\Desktop\\NILM\\datasets\\ukdale.h5')\n",
    "\n",
    "# Check metadata\n",
    "print(data)\n"
   ]
  }
 ],
 "metadata": {
  "kernelspec": {
   "display_name": ".venv",
   "language": "python",
   "name": "python3"
  },
  "language_info": {
   "codemirror_mode": {
    "name": "ipython",
    "version": 3
   },
   "file_extension": ".py",
   "mimetype": "text/x-python",
   "name": "python",
   "nbconvert_exporter": "python",
   "pygments_lexer": "ipython3",
   "version": "3.11.9"
  }
 },
 "nbformat": 4,
 "nbformat_minor": 5
}
