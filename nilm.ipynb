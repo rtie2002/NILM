{
 "cells": [
  {
   "cell_type": "markdown",
   "id": "59ad26b9",
   "metadata": {},
   "source": [
    "Library Import"
   ]
  },
  {
   "cell_type": "code",
   "execution_count": 17,
   "id": "45616495",
   "metadata": {},
   "outputs": [],
   "source": [
    "# Standard library imports\n",
    "import sys\n",
    "import os\n",
    "from pathlib import Path\n",
    "\n",
    "# Third-party imports\n",
    "import numpy as np\n",
    "import pandas as pd\n",
    "import matplotlib.pyplot as plt\n",
    "\n",
    "# NILMTK imports\n",
    "from nilmtk import DataSet\n",
    "from nilmtk.electric import Electric\n",
    "from nilmtk.metergroup import MeterGroup\n",
    "from nilmtk.elecmeter import ElecMeter"
   ]
  },
  {
   "cell_type": "code",
   "execution_count": 18,
   "id": "03813104",
   "metadata": {},
   "outputs": [
    {
     "data": {
      "text/plain": [
       "<contextlib.ExitStack at 0x1e11788fc90>"
      ]
     },
     "execution_count": 18,
     "metadata": {},
     "output_type": "execute_result"
    }
   ],
   "source": [
    "# Matplotlib configuration\n",
    "plt.ion()  # Turn on interactive mode"
   ]
  },
  {
   "cell_type": "markdown",
   "id": "f5ec9fb0",
   "metadata": {},
   "source": [
    "Path"
   ]
  },
  {
   "cell_type": "code",
   "execution_count": null,
   "id": "82e00391",
   "metadata": {},
   "outputs": [],
   "source": []
  },
  {
   "cell_type": "code",
   "execution_count": 21,
   "id": "fb08ecb8",
   "metadata": {},
   "outputs": [
    {
     "name": "stdout",
     "output_type": "stream",
     "text": [
      "Current working directory: c:\\Users\\Raymond Tie\\Desktop\\NILM\n",
      "CURRENT_DIR: c:\\Users\\Raymond Tie\\Desktop\\NILM\n",
      "sys.path[0] = c:\\Users\\Raymond Tie\\Desktop\\NILM\\nilmtk\n",
      "NILMTK_PATH = c:\\Users\\Raymond Tie\\Desktop\\NILM\\nilmtk\n",
      "✓ nilmtk folder found at: c:\\Users\\Raymond Tie\\Desktop\\NILM\\nilmtk\n"
     ]
    }
   ],
   "source": [
    "# This is the corrected path configuration for your Jupyter notebook\n",
    "# Copy this code into the first cell of your nilm.ipynb\n",
    "\n",
    "# Ensure project path is on sys.path so 'nilmtk' imports work\n",
    "import sys\n",
    "import os\n",
    "\n",
    "# Method 1: Using IPython to get the notebook directory (most reliable for Jupyter)\n",
    "try:\n",
    "    from IPython import get_ipython\n",
    "    notebook_dir = os.path.dirname(get_ipython().kernel.get_connection_file())\n",
    "    print(f\"Notebook directory (IPython method): {notebook_dir}\")\n",
    "except:\n",
    "    notebook_dir = os.getcwd()\n",
    "    print(f\"Current working directory: {notebook_dir}\")\n",
    "\n",
    "# Method 2: Alternative approach - use current working directory\n",
    "# This should give you: C:\\Users\\Raymond Tie\\Desktop\\NILM\n",
    "CURRENT_DIR = os.getcwd()\n",
    "print(f\"CURRENT_DIR: {CURRENT_DIR}\")\n",
    "\n",
    "# Build the nilmtk path\n",
    "NILMTK_PATH = os.path.join(CURRENT_DIR, 'nilmtk')\n",
    "PROJECT_ROOT = NILMTK_PATH  # Keep for compatibility\n",
    "\n",
    "if NILMTK_PATH not in sys.path:\n",
    "    sys.path.insert(0, NILMTK_PATH)\n",
    "\n",
    "print(\"sys.path[0] =\", sys.path[0])\n",
    "print(\"NILMTK_PATH =\", NILMTK_PATH)\n",
    "\n",
    "# Verify the path exists\n",
    "if os.path.exists(NILMTK_PATH):\n",
    "    print(f\"✓ nilmtk folder found at: {NILMTK_PATH}\")\n",
    "else:\n",
    "    print(f\"✗ nilmtk folder NOT found at: {NILMTK_PATH}\")\n",
    "    # Try alternative path detection\n",
    "    alternative_path = r\"C:\\Users\\Raymond Tie\\Desktop\\NILM\\nilmtk\"\n",
    "    if os.path.exists(alternative_path):\n",
    "        print(f\"✓ Found nilmtk at alternative path: {alternative_path}\")\n",
    "        NILMTK_PATH = alternative_path\n",
    "        PROJECT_ROOT = NILMTK_PATH\n",
    "        if NILMTK_PATH not in sys.path:\n",
    "            sys.path.insert(0, NILMTK_PATH)\n",
    "        print(\"Updated sys.path[0] =\", sys.path[0])\n",
    "    else:\n",
    "        print(\"✗ Could not find nilmtk folder\")\n"
   ]
  }
 ],
 "metadata": {
  "kernelspec": {
   "display_name": ".venv",
   "language": "python",
   "name": "python3"
  },
  "language_info": {
   "codemirror_mode": {
    "name": "ipython",
    "version": 3
   },
   "file_extension": ".py",
   "mimetype": "text/x-python",
   "name": "python",
   "nbconvert_exporter": "python",
   "pygments_lexer": "ipython3",
   "version": "3.11.1"
  }
 },
 "nbformat": 4,
 "nbformat_minor": 5
}
