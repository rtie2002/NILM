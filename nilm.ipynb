{
 "cells": [
  {
   "cell_type": "markdown",
   "id": "59ad26b9",
   "metadata": {},
   "source": [
    "Library Import"
   ]
  },
  {
   "cell_type": "code",
   "execution_count": 1,
   "id": "45616495",
   "metadata": {},
   "outputs": [
    {
     "ename": "ModuleNotFoundError",
     "evalue": "No module named 'numpy'",
     "output_type": "error",
     "traceback": [
      "\u001b[31m---------------------------------------------------------------------------\u001b[39m",
      "\u001b[31mModuleNotFoundError\u001b[39m                       Traceback (most recent call last)",
      "\u001b[36mCell\u001b[39m\u001b[36m \u001b[39m\u001b[32mIn[1]\u001b[39m\u001b[32m, line 7\u001b[39m\n\u001b[32m      4\u001b[39m \u001b[38;5;28;01mfrom\u001b[39;00m\u001b[38;5;250m \u001b[39m\u001b[34;01mpathlib\u001b[39;00m\u001b[38;5;250m \u001b[39m\u001b[38;5;28;01mimport\u001b[39;00m Path\n\u001b[32m      6\u001b[39m \u001b[38;5;66;03m# Third-party imports\u001b[39;00m\n\u001b[32m----> \u001b[39m\u001b[32m7\u001b[39m \u001b[38;5;28;01mimport\u001b[39;00m\u001b[38;5;250m \u001b[39m\u001b[34;01mnumpy\u001b[39;00m\u001b[38;5;250m \u001b[39m\u001b[38;5;28;01mas\u001b[39;00m\u001b[38;5;250m \u001b[39m\u001b[34;01mnp\u001b[39;00m\n\u001b[32m      8\u001b[39m \u001b[38;5;28;01mimport\u001b[39;00m\u001b[38;5;250m \u001b[39m\u001b[34;01mpandas\u001b[39;00m\u001b[38;5;250m \u001b[39m\u001b[38;5;28;01mas\u001b[39;00m\u001b[38;5;250m \u001b[39m\u001b[34;01mpd\u001b[39;00m\n\u001b[32m      9\u001b[39m \u001b[38;5;28;01mimport\u001b[39;00m\u001b[38;5;250m \u001b[39m\u001b[34;01mmatplotlib\u001b[39;00m\u001b[34;01m.\u001b[39;00m\u001b[34;01mpyplot\u001b[39;00m\u001b[38;5;250m \u001b[39m\u001b[38;5;28;01mas\u001b[39;00m\u001b[38;5;250m \u001b[39m\u001b[34;01mplt\u001b[39;00m\n",
      "\u001b[31mModuleNotFoundError\u001b[39m: No module named 'numpy'"
     ]
    }
   ],
   "source": [
    "# Standard library imports\n",
    "import sys\n",
    "import os\n",
    "from pathlib import Path\n",
    "\n",
    "# Third-party imports\n",
    "import numpy as np\n",
    "import pandas as pd\n",
    "import matplotlib.pyplot as plt\n",
    "\n",
    "# NILMTK imports\n",
    "from nilmtk import DataSet\n",
    "from nilmtk.electric import Electric\n",
    "from nilmtk.metergroup import MeterGroup\n",
    "from nilmtk.elecmeter import ElecMeter\n",
    "\n",
    "# Matplotlib configuration\n",
    "plt.ion()  # Turn on interactive mode"
   ]
  },
  {
   "cell_type": "code",
   "execution_count": null,
   "id": "af7077c9",
   "metadata": {},
   "outputs": [],
   "source": []
  },
  {
   "cell_type": "code",
   "execution_count": null,
   "id": "1072c2e7",
   "metadata": {},
   "outputs": [],
   "source": [
    "# Standard library imports\n",
    "import sys\n",
    "import os\n",
    "from pathlib import Path\n",
    "\n",
    "# Third-party imports\n",
    "import numpy as np\n",
    "import pandas as pd\n",
    "import matplotlib.pyplot as plt\n",
    "\n",
    "# NILMTK imports\n",
    "from nilmtk import DataSet\n",
    "from nilmtk.electric import Electric\n",
    "from nilmtk.metergroup import MeterGroup\n",
    "from nilmtk.elecmeter import ElecMeter\n",
    "\n",
    "# Matplotlib configuration\n",
    "plt.ion()  # Turn on interactive mode"
   ]
  },
  {
   "cell_type": "code",
   "execution_count": null,
   "id": "03813104",
   "metadata": {},
   "outputs": [],
   "source": [
    "# Matplotlib configuration\n",
    "plt.ion()  # Turn on interactive mode"
   ]
  },
  {
   "cell_type": "markdown",
   "id": "f5ec9fb0",
   "metadata": {},
   "source": [
    "Path"
   ]
  },
  {
   "cell_type": "code",
   "execution_count": null,
   "id": "fb08ecb8",
   "metadata": {},
   "outputs": [],
   "source": [
    "NILMTK_PATH = r\"C:\\Users\\Raymond Tie\\Desktop\\NILM\\nilmtk\"\n",
    "if NILMTK_PATH not in sys.path:\n",
    "    sys.path.insert(0, NILMTK_PATH)"
   ]
  },
  {
   "cell_type": "code",
   "execution_count": null,
   "id": "716abad1",
   "metadata": {},
   "outputs": [],
   "source": [
    "from nilmtk import DataSet\n",
    "import matplotlib.pyplot as plt\n",
    "\n",
    "# 1. Load UK-DALE dataset\n",
    "data = DataSet('datasets/ukdale.h5')   # path to your file\n",
    "\n",
    "# 2. Select Building 1\n",
    "building = data.buildings[1]\n",
    "\n",
    "# 3. Access the electricity meter data\n",
    "elec = building.elec\n",
    "\n",
    "# Show available meters\n",
    "print(\"Available meters:\")\n",
    "print(elec)\n",
    "\n",
    "# 4. Plot total mains power\n",
    "print(\"Plotting mains power…\")\n",
    "elec.mains().plot()\n",
    "plt.show()\n"
   ]
  },
  {
   "cell_type": "code",
   "execution_count": null,
   "id": "04e8ea4c",
   "metadata": {},
   "outputs": [],
   "source": [
    "from nilmtk import DataSet, HDFDataStore\n",
    "from nilmtk.disaggregate.combinatorial_optimisation import CombinatorialOptimisation\n",
    "import matplotlib.pyplot as plt\n",
    "\n",
    "# Load dataset\n",
    "data = DataSet('datasets/ukdale.h5')\n",
    "building = data.buildings[1]\n",
    "elec = building.elec\n",
    "\n",
    "print(elec)  # show meters\n",
    "\n",
    "# Train NILM algorithm\n",
    "co = CombinatorialOptimisation()\n",
    "co.train(elec)\n",
    "\n",
    "# Disaggregate mains power\n",
    "disag_filename = 'datasets/disag-co.h5'\n",
    "output = HDFDataStore(disag_filename, 'w')\n",
    "co.disaggregate(elec.mains(), output)\n",
    "output.close()\n",
    "\n",
    "print(\"Disaggregation complete. Results saved to\", disag_filename)\n",
    "\n",
    "# Plot mains after disaggregation\n",
    "elec.mains().plot()\n",
    "plt.show()\n"
   ]
  }
 ],
 "metadata": {
  "kernelspec": {
   "display_name": ".venv",
   "language": "python",
   "name": "python3"
  },
  "language_info": {
   "codemirror_mode": {
    "name": "ipython",
    "version": 3
   },
   "file_extension": ".py",
   "mimetype": "text/x-python",
   "name": "python",
   "nbconvert_exporter": "python",
   "pygments_lexer": "ipython3",
   "version": "3.11.9"
  }
 },
 "nbformat": 4,
 "nbformat_minor": 5
}
