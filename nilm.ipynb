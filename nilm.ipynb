{
 "cells": [
  {
   "cell_type": "markdown",
   "id": "c5d5bf2a",
   "metadata": {},
   "source": [
    "NILMTK Path"
   ]
  },
  {
   "cell_type": "code",
   "execution_count": null,
   "id": "18d394a1",
   "metadata": {},
   "outputs": [
    {
     "name": "stdout",
     "output_type": "stream",
     "text": [
      "sys.path[0] = C:\\Users\\Raymond Tie\\Desktop\\NILM\n",
      "DATASET_PATH = C:\\Users\\Raymond Tie\\Desktop\\NILM\\nilmtk\\data\\random.h5\n"
     ]
    }
   ],
   "source": [
    "# Ensure project path is on sys.path so 'nilmtk' imports work\n",
    "import sys\n",
    "PROJECT_ROOT = r\"C:\\Users\\Raymond Tie\\Desktop\\NILM\\nilmtk\"\n",
    "if PROJECT_ROOT not in sys.path:\n",
    "    sys.path.insert(0, PROJECT_ROOT)\n",
    "print(\"sys.path[0] =\", sys.path[0])"
   ]
  },
  {
   "cell_type": "code",
   "execution_count": 44,
   "id": "2c0f76e7",
   "metadata": {},
   "outputs": [],
   "source": [
    "# Standard library imports\n",
    "import sys\n",
    "import os\n",
    "from pathlib import Path\n",
    "\n",
    "# Third-party imports\n",
    "import numpy as np\n",
    "import pandas as pd\n",
    "import matplotlib.pyplot as plt\n",
    "\n",
    "# NILMTK imports\n",
    "from nilmtk import DataSet\n",
    "from nilmtk.electric import Electric\n",
    "from nilmtk.metergroup import MeterGroup\n",
    "from nilmtk.elecmeter import ElecMeter"
   ]
  },
  {
   "cell_type": "code",
   "execution_count": null,
   "id": "ac1a0ee2",
   "metadata": {},
   "outputs": [
    {
     "name": "stdout",
     "output_type": "stream",
     "text": [
      "MeterGroup(meters=\n",
      "  ElecMeter(instance=1, building=1, dataset=None, appliances=[])\n",
      "  ElecMeter(instance=2, building=1, dataset=None, appliances=[])\n",
      "  ElecMeter(instance=3, building=1, dataset=None, appliances=[])\n",
      "  ElecMeter(instance=4, building=1, dataset=None, appliances=[])\n",
      "  ElecMeter(instance=5, building=1, dataset=None, appliances=[])\n",
      ")\n"
     ]
    },
    {
     "name": "stderr",
     "output_type": "stream",
     "text": [
      "C:\\Users\\Raymond Tie\\Desktop\\NILM\\nilmtk\\nilmtk\\metergroup.py:85: RuntimeWarning: Building 1 has an empty 'appliances' list.\n",
      "  warnings.warn(\"Building {} has an empty 'appliances' list.\"\n"
     ]
    }
   ],
   "source": [
    "\n",
    "%matplotlib inline\n",
    "\n",
    "ds = DataSet(DATASET_PATH)\n",
    "elec = ds.buildings[1].elec\n",
    "\n",
    "print(elec)"
   ]
  },
  {
   "cell_type": "markdown",
   "id": "1d3af01e",
   "metadata": {},
   "source": [
    "Convert data to NILMTK format and load into NILMTK"
   ]
  },
  {
   "cell_type": "code",
   "execution_count": null,
   "id": "96aa8737",
   "metadata": {},
   "outputs": [
    {
     "ename": "FileNotFoundError",
     "evalue": "``C:\\data`` does not exist",
     "output_type": "error",
     "traceback": [
      "\u001b[31m---------------------------------------------------------------------------\u001b[39m",
      "\u001b[31mFileNotFoundError\u001b[39m                         Traceback (most recent call last)",
      "\u001b[36mCell\u001b[39m\u001b[36m \u001b[39m\u001b[32mIn[45]\u001b[39m\u001b[32m, line 2\u001b[39m\n\u001b[32m      1\u001b[39m \u001b[38;5;28;01mfrom\u001b[39;00m\u001b[38;5;250m \u001b[39m\u001b[34;01mnilmtk\u001b[39;00m\u001b[34;01m.\u001b[39;00m\u001b[34;01mdataset_converters\u001b[39;00m\u001b[38;5;250m \u001b[39m\u001b[38;5;28;01mimport\u001b[39;00m convert_redd\n\u001b[32m----> \u001b[39m\u001b[32m2\u001b[39m \u001b[43mconvert_redd\u001b[49m\u001b[43m(\u001b[49m\u001b[33;43m'\u001b[39;49m\u001b[33;43m/data/REDD/low_freq\u001b[39;49m\u001b[33;43m'\u001b[39;49m\u001b[43m,\u001b[49m\u001b[43m \u001b[49m\u001b[33;43m'\u001b[39;49m\u001b[33;43m/data/redd.h5\u001b[39;49m\u001b[33;43m'\u001b[39;49m\u001b[43m)\u001b[49m\n",
      "\u001b[36mFile \u001b[39m\u001b[32m~\\Desktop\\NILM\\nilmtk\\nilmtk\\dataset_converters\\redd\\convert_redd.py:40\u001b[39m, in \u001b[36mconvert_redd\u001b[39m\u001b[34m(redd_path, output_filename, format)\u001b[39m\n\u001b[32m     37\u001b[39m     \u001b[38;5;28;01mreturn\u001b[39;00m [(\u001b[33m'\u001b[39m\u001b[33mpower\u001b[39m\u001b[33m'\u001b[39m, ac_type)]\n\u001b[32m     39\u001b[39m \u001b[38;5;66;03m# Open DataStore\u001b[39;00m\n\u001b[32m---> \u001b[39m\u001b[32m40\u001b[39m store = \u001b[43mget_datastore\u001b[49m\u001b[43m(\u001b[49m\u001b[43moutput_filename\u001b[49m\u001b[43m,\u001b[49m\u001b[43m \u001b[49m\u001b[38;5;28;43mformat\u001b[39;49m\u001b[43m,\u001b[49m\u001b[43m \u001b[49m\u001b[43mmode\u001b[49m\u001b[43m=\u001b[49m\u001b[33;43m'\u001b[39;49m\u001b[33;43mw\u001b[39;49m\u001b[33;43m'\u001b[39;49m\u001b[43m)\u001b[49m\n\u001b[32m     42\u001b[39m \u001b[38;5;66;03m# Convert raw data to DataStore\u001b[39;00m\n\u001b[32m     43\u001b[39m _convert(redd_path, store, _redd_measurement_mapping_func, \u001b[33m'\u001b[39m\u001b[33mUS/Eastern\u001b[39m\u001b[33m'\u001b[39m)\n",
      "\u001b[36mFile \u001b[39m\u001b[32m~\\Desktop\\NILM\\nilmtk\\nilmtk\\utils.py:323\u001b[39m, in \u001b[36mget_datastore\u001b[39m\u001b[34m(filename, format, mode)\u001b[39m\n\u001b[32m    321\u001b[39m \u001b[38;5;28;01mif\u001b[39;00m filename \u001b[38;5;129;01mis\u001b[39;00m \u001b[38;5;129;01mnot\u001b[39;00m \u001b[38;5;28;01mNone\u001b[39;00m:\n\u001b[32m    322\u001b[39m     \u001b[38;5;28;01mif\u001b[39;00m \u001b[38;5;28mformat\u001b[39m == \u001b[33m\"\u001b[39m\u001b[33mHDF\u001b[39m\u001b[33m\"\u001b[39m:\n\u001b[32m--> \u001b[39m\u001b[32m323\u001b[39m         \u001b[38;5;28;01mreturn\u001b[39;00m \u001b[43mHDFDataStore\u001b[49m\u001b[43m(\u001b[49m\u001b[43mfilename\u001b[49m\u001b[43m,\u001b[49m\u001b[43m \u001b[49m\u001b[43mmode\u001b[49m\u001b[43m)\u001b[49m\n\u001b[32m    324\u001b[39m     \u001b[38;5;28;01melif\u001b[39;00m \u001b[38;5;28mformat\u001b[39m == \u001b[33m\"\u001b[39m\u001b[33mCSV\u001b[39m\u001b[33m\"\u001b[39m:\n\u001b[32m    325\u001b[39m         \u001b[38;5;28;01mreturn\u001b[39;00m CSVDataStore(filename)\n",
      "\u001b[36mFile \u001b[39m\u001b[32m~\\Desktop\\NILM\\nilmtk\\nilmtk\\docinherit.py:53\u001b[39m, in \u001b[36mDocInherit.__get__.<locals>.f\u001b[39m\u001b[34m(*args, **kwargs)\u001b[39m\n\u001b[32m     50\u001b[39m \u001b[38;5;129m@wraps\u001b[39m(\u001b[38;5;28mself\u001b[39m.mthd, assigned=(\u001b[33m'\u001b[39m\u001b[33m__name__\u001b[39m\u001b[33m'\u001b[39m, \u001b[33m'\u001b[39m\u001b[33m__module__\u001b[39m\u001b[33m'\u001b[39m))\n\u001b[32m     51\u001b[39m \u001b[38;5;28;01mdef\u001b[39;00m\u001b[38;5;250m \u001b[39m\u001b[34mf\u001b[39m(*args, **kwargs):\n\u001b[32m     52\u001b[39m     \u001b[38;5;28;01mif\u001b[39;00m obj:\n\u001b[32m---> \u001b[39m\u001b[32m53\u001b[39m         \u001b[38;5;28;01mreturn\u001b[39;00m \u001b[38;5;28;43mself\u001b[39;49m\u001b[43m.\u001b[49m\u001b[43mmthd\u001b[49m\u001b[43m(\u001b[49m\u001b[43mobj\u001b[49m\u001b[43m,\u001b[49m\u001b[43m \u001b[49m\u001b[43m*\u001b[49m\u001b[43margs\u001b[49m\u001b[43m,\u001b[49m\u001b[43m \u001b[49m\u001b[43m*\u001b[49m\u001b[43m*\u001b[49m\u001b[43mkwargs\u001b[49m\u001b[43m)\u001b[49m\n\u001b[32m     54\u001b[39m     \u001b[38;5;28;01melse\u001b[39;00m:\n\u001b[32m     55\u001b[39m         \u001b[38;5;28;01mreturn\u001b[39;00m \u001b[38;5;28mself\u001b[39m.mthd(*args, **kwargs)\n",
      "\u001b[36mFile \u001b[39m\u001b[32m~\\Desktop\\NILM\\nilmtk\\nilmtk\\datastore\\hdfdatastore.py:24\u001b[39m, in \u001b[36mHDFDataStore.__init__\u001b[39m\u001b[34m(self, filename, mode)\u001b[39m\n\u001b[32m     20\u001b[39m \u001b[38;5;28;01mwith\u001b[39;00m warnings.catch_warnings():\n\u001b[32m     21\u001b[39m     \u001b[38;5;66;03m# Silence pytables warnings with numpy, out of our control\u001b[39;00m\n\u001b[32m     22\u001b[39m     warnings.filterwarnings(\u001b[33m'\u001b[39m\u001b[33mignore\u001b[39m\u001b[33m'\u001b[39m, category=\u001b[38;5;167;01mRuntimeWarning\u001b[39;00m, message=\u001b[33m'\u001b[39m\u001b[33m.*numpy.ufunc size changed.*\u001b[39m\u001b[33m'\u001b[39m)\n\u001b[32m---> \u001b[39m\u001b[32m24\u001b[39m     \u001b[38;5;28mself\u001b[39m.store = \u001b[43mpd\u001b[49m\u001b[43m.\u001b[49m\u001b[43mHDFStore\u001b[49m\u001b[43m(\u001b[49m\u001b[43mfilename\u001b[49m\u001b[43m,\u001b[49m\u001b[43m \u001b[49m\u001b[43mmode\u001b[49m\u001b[43m,\u001b[49m\u001b[43m \u001b[49m\u001b[43mcomplevel\u001b[49m\u001b[43m=\u001b[49m\u001b[32;43m9\u001b[39;49m\u001b[43m,\u001b[49m\u001b[43m \u001b[49m\u001b[43mcomplib\u001b[49m\u001b[43m=\u001b[49m\u001b[33;43m'\u001b[39;49m\u001b[33;43mblosc\u001b[39;49m\u001b[33;43m'\u001b[39;49m\u001b[43m)\u001b[49m\n\u001b[32m     25\u001b[39m     \u001b[38;5;28msuper\u001b[39m(HDFDataStore, \u001b[38;5;28mself\u001b[39m).\u001b[34m__init__\u001b[39m()\n",
      "\u001b[36mFile \u001b[39m\u001b[32mc:\\Users\\Raymond Tie\\Desktop\\NILM\\.venv\\Lib\\site-packages\\pandas\\io\\pytables.py:585\u001b[39m, in \u001b[36mHDFStore.__init__\u001b[39m\u001b[34m(self, path, mode, complevel, complib, fletcher32, **kwargs)\u001b[39m\n\u001b[32m    583\u001b[39m \u001b[38;5;28mself\u001b[39m._fletcher32 = fletcher32\n\u001b[32m    584\u001b[39m \u001b[38;5;28mself\u001b[39m._filters = \u001b[38;5;28;01mNone\u001b[39;00m\n\u001b[32m--> \u001b[39m\u001b[32m585\u001b[39m \u001b[38;5;28;43mself\u001b[39;49m\u001b[43m.\u001b[49m\u001b[43mopen\u001b[49m\u001b[43m(\u001b[49m\u001b[43mmode\u001b[49m\u001b[43m=\u001b[49m\u001b[43mmode\u001b[49m\u001b[43m,\u001b[49m\u001b[43m \u001b[49m\u001b[43m*\u001b[49m\u001b[43m*\u001b[49m\u001b[43mkwargs\u001b[49m\u001b[43m)\u001b[49m\n",
      "\u001b[36mFile \u001b[39m\u001b[32mc:\\Users\\Raymond Tie\\Desktop\\NILM\\.venv\\Lib\\site-packages\\pandas\\io\\pytables.py:745\u001b[39m, in \u001b[36mHDFStore.open\u001b[39m\u001b[34m(self, mode, **kwargs)\u001b[39m\n\u001b[32m    739\u001b[39m     msg = (\n\u001b[32m    740\u001b[39m         \u001b[33m\"\u001b[39m\u001b[33mCannot open HDF5 file, which is already opened, \u001b[39m\u001b[33m\"\u001b[39m\n\u001b[32m    741\u001b[39m         \u001b[33m\"\u001b[39m\u001b[33meven in read-only mode.\u001b[39m\u001b[33m\"\u001b[39m\n\u001b[32m    742\u001b[39m     )\n\u001b[32m    743\u001b[39m     \u001b[38;5;28;01mraise\u001b[39;00m \u001b[38;5;167;01mValueError\u001b[39;00m(msg)\n\u001b[32m--> \u001b[39m\u001b[32m745\u001b[39m \u001b[38;5;28mself\u001b[39m._handle = \u001b[43mtables\u001b[49m\u001b[43m.\u001b[49m\u001b[43mopen_file\u001b[49m\u001b[43m(\u001b[49m\u001b[38;5;28;43mself\u001b[39;49m\u001b[43m.\u001b[49m\u001b[43m_path\u001b[49m\u001b[43m,\u001b[49m\u001b[43m \u001b[49m\u001b[38;5;28;43mself\u001b[39;49m\u001b[43m.\u001b[49m\u001b[43m_mode\u001b[49m\u001b[43m,\u001b[49m\u001b[43m \u001b[49m\u001b[43m*\u001b[49m\u001b[43m*\u001b[49m\u001b[43mkwargs\u001b[49m\u001b[43m)\u001b[49m\n",
      "\u001b[36mFile \u001b[39m\u001b[32mc:\\Users\\Raymond Tie\\Desktop\\NILM\\.venv\\Lib\\site-packages\\tables\\file.py:325\u001b[39m, in \u001b[36mopen_file\u001b[39m\u001b[34m(filename, mode, title, root_uep, filters, **kwargs)\u001b[39m\n\u001b[32m    319\u001b[39m             \u001b[38;5;28;01mraise\u001b[39;00m \u001b[38;5;167;01mValueError\u001b[39;00m(\n\u001b[32m    320\u001b[39m                 \u001b[33m\"\u001b[39m\u001b[33mThe file \u001b[39m\u001b[33m'\u001b[39m\u001b[38;5;132;01m%s\u001b[39;00m\u001b[33m'\u001b[39m\u001b[33m is already opened.  Please \u001b[39m\u001b[33m\"\u001b[39m\n\u001b[32m    321\u001b[39m                 \u001b[33m\"\u001b[39m\u001b[33mclose it before reopening in write mode.\u001b[39m\u001b[33m\"\u001b[39m % filename\n\u001b[32m    322\u001b[39m             )\n\u001b[32m    324\u001b[39m \u001b[38;5;66;03m# Finally, create the File instance, and return it\u001b[39;00m\n\u001b[32m--> \u001b[39m\u001b[32m325\u001b[39m \u001b[38;5;28;01mreturn\u001b[39;00m \u001b[43mFile\u001b[49m\u001b[43m(\u001b[49m\u001b[43mfilename\u001b[49m\u001b[43m,\u001b[49m\u001b[43m \u001b[49m\u001b[43mmode\u001b[49m\u001b[43m,\u001b[49m\u001b[43m \u001b[49m\u001b[43mtitle\u001b[49m\u001b[43m,\u001b[49m\u001b[43m \u001b[49m\u001b[43mroot_uep\u001b[49m\u001b[43m,\u001b[49m\u001b[43m \u001b[49m\u001b[43mfilters\u001b[49m\u001b[43m,\u001b[49m\u001b[43m \u001b[49m\u001b[43m*\u001b[49m\u001b[43m*\u001b[49m\u001b[43mkwargs\u001b[49m\u001b[43m)\u001b[49m\n",
      "\u001b[36mFile \u001b[39m\u001b[32mc:\\Users\\Raymond Tie\\Desktop\\NILM\\.venv\\Lib\\site-packages\\tables\\file.py:811\u001b[39m, in \u001b[36mFile.__init__\u001b[39m\u001b[34m(self, filename, mode, title, root_uep, filters, **kwargs)\u001b[39m\n\u001b[32m    808\u001b[39m \u001b[38;5;28mself\u001b[39m.params = params\n\u001b[32m    810\u001b[39m \u001b[38;5;66;03m# Now, it is time to initialize the File extension\u001b[39;00m\n\u001b[32m--> \u001b[39m\u001b[32m811\u001b[39m \u001b[38;5;28;43mself\u001b[39;49m\u001b[43m.\u001b[49m\u001b[43m_g_new\u001b[49m\u001b[43m(\u001b[49m\u001b[43mfilename\u001b[49m\u001b[43m,\u001b[49m\u001b[43m \u001b[49m\u001b[43mmode\u001b[49m\u001b[43m,\u001b[49m\u001b[43m \u001b[49m\u001b[43m*\u001b[49m\u001b[43m*\u001b[49m\u001b[43mparams\u001b[49m\u001b[43m)\u001b[49m\n\u001b[32m    813\u001b[39m \u001b[38;5;66;03m# Check filters and set PyTables format version for new files.\u001b[39;00m\n\u001b[32m    814\u001b[39m new = \u001b[38;5;28mself\u001b[39m._v_new\n",
      "\u001b[36mFile \u001b[39m\u001b[32mc:\\Users\\Raymond Tie\\Desktop\\NILM\\.venv\\Lib\\site-packages\\tables\\hdf5extension.pyx:499\u001b[39m, in \u001b[36mtables.hdf5extension.File._g_new\u001b[39m\u001b[34m()\u001b[39m\n",
      "\u001b[36mFile \u001b[39m\u001b[32mc:\\Users\\Raymond Tie\\Desktop\\NILM\\.venv\\Lib\\site-packages\\tables\\utils.py:188\u001b[39m, in \u001b[36mcheck_file_access\u001b[39m\u001b[34m(filename, mode)\u001b[39m\n\u001b[32m    184\u001b[39m \u001b[38;5;28;01melse\u001b[39;00m:\n\u001b[32m    185\u001b[39m     \u001b[38;5;66;03m# A new file is going to be created,\u001b[39;00m\n\u001b[32m    186\u001b[39m     \u001b[38;5;66;03m# so the directory should be writable.\u001b[39;00m\n\u001b[32m    187\u001b[39m     \u001b[38;5;28;01mif\u001b[39;00m \u001b[38;5;129;01mnot\u001b[39;00m os.access(path.parent, os.F_OK):\n\u001b[32m--> \u001b[39m\u001b[32m188\u001b[39m         \u001b[38;5;28;01mraise\u001b[39;00m \u001b[38;5;167;01mFileNotFoundError\u001b[39;00m(\u001b[33mf\u001b[39m\u001b[33m\"\u001b[39m\u001b[33m``\u001b[39m\u001b[38;5;132;01m{\u001b[39;00mpath.parent\u001b[38;5;132;01m}\u001b[39;00m\u001b[33m`` does not exist\u001b[39m\u001b[33m\"\u001b[39m)\n\u001b[32m    189\u001b[39m     \u001b[38;5;28;01mif\u001b[39;00m \u001b[38;5;129;01mnot\u001b[39;00m path.parent.is_dir():\n\u001b[32m    190\u001b[39m         \u001b[38;5;28;01mraise\u001b[39;00m \u001b[38;5;167;01mNotADirectoryError\u001b[39;00m(\n\u001b[32m    191\u001b[39m             \u001b[33mf\u001b[39m\u001b[33m\"\u001b[39m\u001b[33m``\u001b[39m\u001b[38;5;132;01m{\u001b[39;00mpath.parent\u001b[38;5;132;01m}\u001b[39;00m\u001b[33m`` is not a directory\u001b[39m\u001b[33m\"\u001b[39m\n\u001b[32m    192\u001b[39m         )\n",
      "\u001b[31mFileNotFoundError\u001b[39m: ``C:\\data`` does not exist"
     ]
    }
   ],
   "source": [
    "\n",
    "from nilmtk.dataset_converters import convert_redd\n",
    "convert_redd('/data/REDD/low_freq', '/data/redd.h5')"
   ]
  }
 ],
 "metadata": {
  "kernelspec": {
   "display_name": ".venv",
   "language": "python",
   "name": "python3"
  },
  "language_info": {
   "codemirror_mode": {
    "name": "ipython",
    "version": 3
   },
   "file_extension": ".py",
   "mimetype": "text/x-python",
   "name": "python",
   "nbconvert_exporter": "python",
   "pygments_lexer": "ipython3",
   "version": "3.11.1"
  }
 },
 "nbformat": 4,
 "nbformat_minor": 5
}
